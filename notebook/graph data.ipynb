{
 "metadata": {
  "name": ""
 },
 "nbformat": 3,
 "nbformat_minor": 0,
 "worksheets": [
  {
   "cells": [
    {
     "cell_type": "code",
     "collapsed": false,
     "input": [
      "import itertools\n",
      "import MySQLdb\n",
      "import matplotlib.pyplot as plt\n",
      "import pandas.io.sql as sql\n",
      "\n",
      "con = MySQLdb.connect('localhost', 'root', '', 'ebs_tweets')\n",
      "query = 'SELECT * from stream_sf_test'\n",
      "data_frame = sql.read_frame(query, con)"
     ],
     "language": "python",
     "metadata": {},
     "outputs": [],
     "prompt_number": 1
    },
    {
     "cell_type": "code",
     "collapsed": false,
     "input": [
      "df = data_frame[data_frame['sentiment'] < 7]\n",
      "df = data_frame[data_frame['sentiment'] > -7]\n",
      "df = df[df['lng'] < 0]\n",
      "df = df[df['lat'] > 0]\n",
      "print(len(df))\n",
      "fig = plt.figure()\n",
      "ax = fig.add_subplot(111)\n",
      "points = df[['lat', 'lng', 'sentiment']]\n",
      "points = points[points['sentiment'] != 0]\n",
      "series = []\n",
      "for i in range(points['sentiment'].min(), points['sentiment'].max()):\n",
      "    series.append(points[points['sentiment'] == i])\n",
      "\n",
      "#print series\n",
      "\n",
      "colors = itertools.cycle(['r', 'b', 'g', 'c', 'm', 'y', 'k'])\n",
      "markers = itertools.cycle(['.', ',', 'o', 'v', '^', '<', '>', '1', '2', '3', '4', '8', 's', 'p', '*', 'h', 'H','+', 'x', 'D'])\n",
      "c = 0\n",
      "\n",
      "#plot = ax.scatter(series[0]['lat'], series[0]['lng'], color=next(colors), marker = next(markers))\n",
      "#plot = ax.scatter(series[1]['lat'], series[1]['lng'], color=next(colors), marker = next(markers))\n",
      "#plot = ax.scatter(series[2]['lat'], series[2]['lng'], color=next(colors), marker = next(markers))\n",
      "#plot = ax.scatter(series[3]['lat'], series[3]['lng'], color=next(colors), marker = next(markers))\n",
      "#plot = ax.scatter(series[4]['lat'], series[4]['lng'], color=next(colors), marker = next(markers))\n",
      "#plot = ax.scatter(series[5]['lat'], series[5]['lng'], color=next(colors), marker = next(markers))\n",
      "#plot = ax.scatter(series[6]['lat'], series[6]['lng'], color=next(colors), marker = next(markers))\n",
      "#plot = ax.scatter(series[7]['lat'], series[7]['lng'], color=next(colors), marker = next(markers))\n",
      "#plot = ax.scatter(series[8]['lat'], series[8]['lng'], color=next(colors), marker = next(markers))\n",
      "#plot = ax.scatter(series[9]['lat'], series[9]['lng'], color=next(colors), marker = next(markers))\n",
      "#plot = ax.scatter(series[10]['lat'], series[10]['lng'], color=next(colors), marker = next(markers))\n",
      "#plot = ax.scatter(series[11]['lat'], series[11]['lng'], color=next(colors), marker = next(markers))\n",
      "#plot = ax.scatter(series[12]['lat'], series[12]['lng'], color=next(colors), marker = next(markers))\n",
      "#plot = ax.scatter(series[13]['lat'], series[13]['lng'], color=next(colors), marker = next(markers))\n",
      "#plot = ax.scatter(series[14]['lat'], series[14]['lng'], color=next(colors), marker = next(markers))\n",
      "\n",
      "i = 0\n",
      "plots = []\n",
      "while i < len(series):\n",
      "    plot = ax.scatter(series[i]['lat'], series[i]['lng'], color=next(colors), marker = next(markers))\n",
      "    plots.append(plot)\n",
      "#    #ax.scatter(series[i]['lat'], series[i]['lng'], color=next(colors), marker = next(markers))\n",
      "    i += 1\n",
      "    \n",
      "#plt.legend(plots,\n",
      "#           ('Low Outlier', 'LoLo', 'Lo', 'Average', 'Hi', 'HiHi', 'High Outlier'),\n",
      "#           scatterpoints=1,\n",
      "#           loc='lower left',\n",
      "#           ncol=3,\n",
      "#           fontsize=8)    \n",
      "    \n",
      "plt.axis([32, 43, -125, -114])\n",
      "\n",
      "plt.axis([37.0, 38.0, -123.0, -122.0])\n",
      "plt.show()"
     ],
     "language": "python",
     "metadata": {},
     "outputs": [
      {
       "output_type": "stream",
       "stream": "stdout",
       "text": [
        "781\n"
       ]
      },
      {
       "metadata": {},
       "output_type": "display_data",
       "png": "[encoded data removed]",
       "text": [
        "<matplotlib.figure.Figure at 0x106507f10>"
       ]
      }
     ],
     "prompt_number": 5
    },
    {
     "cell_type": "code",
     "collapsed": false,
     "input": [
      "points[points['sentiment'] != 0]"
     ],
     "language": "python",
     "metadata": {},
     "outputs": [
      {
       "html": [
        "<pre>\n",
        "&lt;class 'pandas.core.frame.DataFrame'&gt;\n",
        "Int64Index: 20580 entries, 21 to 68448\n",
        "Data columns (total 3 columns):\n",
        "lat          20580  non-null values\n",
        "lng          20580  non-null values\n",
        "sentiment    20580  non-null values\n",
        "dtypes: float64(2), int64(1)\n",
        "</pre>"
       ],
       "output_type": "pyout",
       "prompt_number": 57,
       "text": [
        "<class 'pandas.core.frame.DataFrame'>\n",
        "Int64Index: 20580 entries, 21 to 68448\n",
        "Data columns (total 3 columns):\n",
        "lat          20580  non-null values\n",
        "lng          20580  non-null values\n",
        "sentiment    20580  non-null values\n",
        "dtypes: float64(2), int64(1)"
       ]
      }
     ],
     "prompt_number": 57
    },
    {
     "cell_type": "code",
     "collapsed": false,
     "input": [
      "df = df[df['sentiment'] < 10]\n"
     ],
     "language": "python",
     "metadata": {},
     "outputs": [],
     "prompt_number": 15
    },
    {
     "cell_type": "code",
     "collapsed": false,
     "input": [
      "df['sentiment'].min()"
     ],
     "language": "python",
     "metadata": {},
     "outputs": [
      {
       "output_type": "pyout",
       "prompt_number": 18,
       "text": [
        "-7"
       ]
      }
     ],
     "prompt_number": 18
    },
    {
     "cell_type": "code",
     "collapsed": false,
     "input": [
      "points = df[['lat', 'lng', 'sentiment']]\n",
      "fig = plt.figure()\n",
      "ax = fig.add_subplot(111)\n",
      "ax.scatter(points['lat'], points['lng'], c=(points['sentiment'] + 8)/32)\n",
      "plt.show()\n"
     ],
     "language": "python",
     "metadata": {},
     "outputs": [],
     "prompt_number": 28
    },
    {
     "cell_type": "code",
     "collapsed": false,
     "input": [
      "range(points['sentiment'].min(), points['sentiment'].max())"
     ],
     "language": "python",
     "metadata": {},
     "outputs": [
      {
       "output_type": "pyout",
       "prompt_number": 34,
       "text": [
        "[-7,\n",
        " -6,\n",
        " -5,\n",
        " -4,\n",
        " -3,\n",
        " -2,\n",
        " -1,\n",
        " 0,\n",
        " 1,\n",
        " 2,\n",
        " 3,\n",
        " 4,\n",
        " 5,\n",
        " 6,\n",
        " 7,\n",
        " 8,\n",
        " 9,\n",
        " 10,\n",
        " 11,\n",
        " 12,\n",
        " 13,\n",
        " 14,\n",
        " 15,\n",
        " 16,\n",
        " 17,\n",
        " 18,\n",
        " 19,\n",
        " 20]"
       ]
      }
     ],
     "prompt_number": 34
    },
    {
     "cell_type": "code",
     "collapsed": false,
     "input": [
      "len(range(points['sentiment'].min(), points['sentiment'].max()))"
     ],
     "language": "python",
     "metadata": {},
     "outputs": [
      {
       "output_type": "pyout",
       "prompt_number": 36,
       "text": [
        "28"
       ]
      }
     ],
     "prompt_number": 36
    },
    {
     "cell_type": "code",
     "collapsed": false,
     "input": [],
     "language": "python",
     "metadata": {},
     "outputs": []
    }
   ],
   "metadata": {}
  }
 ]
}