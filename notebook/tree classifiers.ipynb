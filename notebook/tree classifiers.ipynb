{
 "metadata": {
  "name": "tree classifiers"
 },
 "nbformat": 3,
 "nbformat_minor": 0,
 "worksheets": [
  {
   "cells": [
    {
     "cell_type": "code",
     "collapsed": false,
     "input": [
      "import csv\n",
      "\n",
      "import numpy as np\n",
      "\n",
      "# from sklearn.ensemble.weight_boosting import AdaBoostClassifier\n",
      "from sklearn.cross_validation import cross_val_score\n",
      "from sklearn.ensemble.forest import RandomForestClassifier, ExtraTreesClassifier\n",
      "from sklearn.tree import DecisionTreeClassifier\n",
      "from collections import Counter\n",
      "\n",
      "def loadData(file='query_result.csv'):\n",
      "  # data = open(file).read()\n",
      "  # return data\n",
      "  return csv.reader(open(file))\n",
      "def organizeData(data):\n",
      "  # column index:\n",
      "  # 0 id\n",
      "  # 1 ts\n",
      "  # 2 text\n",
      "  # 3 lang\n",
      "  # 4 status_id\n",
      "  # 5 created\n",
      "  # 6 screenname\n",
      "  # 7 favorited\n",
      "  # 8 retweeted\n",
      "  # 9 reply_to\n",
      "  # 10 favorite_count - ?always zero\n",
      "  # 11 user_id\n",
      "  # 12 user_followers\n",
      "  # 13 user_listed_count\n",
      "  # 14 user_statuses_count\n",
      "  # 15 user_favorites_count\n",
      "  # 16 retweet_count - ?always zero\n",
      "  # 17 user_friends_count\n",
      "  # 18 sentiment\n",
      "  # 19 geo\n",
      "  # 20 box_sw\n",
      "  # 21 box_nw\n",
      "  # 22 box_ne\n",
      "  # 23 box_se\n",
      "  # 24 lat\n",
      "  # 25 lng\n",
      "\n",
      "  X = []\n",
      "  y = []\n",
      "  for d in data:\n",
      "    try:\n",
      "      tmp=[]\n",
      "      # print d\n",
      "      # print(d[24], d[25], d[12], d[14], d[18])\n",
      "      tmp.append(float(d[24]))\n",
      "      tmp.append(float(d[25]))\n",
      "      tmp.append(float(d[12]))\n",
      "      tmp.append(float(d[13]))\n",
      "      tmp.append(float(d[14]))\n",
      "      tmp.append(float(d[15]))\n",
      "      tmp.append(float(d[17]))\n",
      "      X.append(tmp)\n",
      "      y.append(d[18])\n",
      "      # print X, y\n",
      "    except:\n",
      "      pass\n",
      "  return np.array(X), np.array(y)\n",
      "\n",
      "\n",
      "def classify(X, y, cv=3):\n",
      "  decision_tree = DecisionTreeClassifier()\n",
      "  random_forests = RandomForestClassifier()\n",
      "  #clf = AdaBoostClassifier()\n",
      "  clf = ExtraTreesClassifier()\n",
      "  # score = cross_val_score(clf, X, y, cv=cv)\n",
      "  score = cross_val_score(clf, X, y, cv=cv)\n",
      "  print '%s-fold cross validation accuracy: %s' % (cv, sum(score)/score.shape[0])\n",
      "  clf = clf.fit(X, y)\n",
      "  print 'Feature Importances'\n",
      "  print clf.feature_importances_\n",
      "  # X = clf.transform(X,threshold=.3)\n",
      "\n",
      "  preds = clf.predict(X)\n",
      "  print 'predictions counter'\n",
      "  print Counter(clf.predict(X))\n",
      "  fp = 0\n",
      "  tp = 0\n",
      "  fn = 0\n",
      "  tn = 0\n",
      "  for a in range(len(y)):\n",
      "    if y[a] == preds[a]:\n",
      "      if preds[a] == 0:\n",
      "        tn += 1\n",
      "      elif preds[a] == 1:\n",
      "        tp += 1\n",
      "    elif preds[a] == 1:\n",
      "      fp += 1\n",
      "    elif preds[a] == 0:\n",
      "      fn += 1\n",
      "\n",
      "        \n",
      "        \n",
      "  print 'correct positives:', tp\n",
      "  print 'correct negatives:', tn\n",
      "  print 'false positives:', fp\n",
      "  print 'false negatives:', fn\n",
      "  # print 'precision:',float(tp)/(tp+fp)\n",
      "  # if threshold is out of range then these values maybe zero\n",
      "  # if (tp+fn) > 0:\n",
      "  #  print 'recall (tp)/(tp+fn):',float(tp)/(tp+fn)\n",
      "  # if (fp+tn) > 0:\n",
      "  #  print 'false positive rate (fp)/(fp+tn):', float(fp)/(fp+tn)\n",
      "  # if (fp+tp) > 0:\n",
      "  #  print 'false positive rate2 (fp)/(fp+tp):', float(fp)/(fp+tp)\n",
      "  # if (tp+tn+fp+fn) > 0:\n",
      "   #print 'prediction accuracy: %s%s\\n' % (100*float(tp+tn)/(tp+tn+fp+fn),'%')\n",
      "  return clf\n",
      "\n",
      "\n",
      "print 'loading data'\n",
      "# data = loadData(file)\n",
      "data = csv.reader(open('query_result.csv', 'rb'))\n",
      "print 'organizing data'\n",
      "X,y = organizeData(data)\n",
      "print 'training'\n",
      "\n",
      "#clf=classify(X,y,cv)\n",
      "clf=classify(X,y)\n",
      "# print 'testing oos data: %s' % test_data\n",
      "# testOOS(clf,test_data,threshold)\n",
      "print '\\nDONE!!!'\n"
     ],
     "language": "python",
     "metadata": {},
     "outputs": [
      {
       "output_type": "stream",
       "stream": "stdout",
       "text": [
        "loading data\n",
        "organizing data\n",
        "training"
       ]
      },
      {
       "output_type": "stream",
       "stream": "stdout",
       "text": [
        "\n",
        "3-fold cross validation accuracy: 0.468891902229"
       ]
      },
      {
       "output_type": "stream",
       "stream": "stdout",
       "text": [
        "\n",
        "Feature Importances"
       ]
      },
      {
       "output_type": "stream",
       "stream": "stdout",
       "text": [
        "\n",
        "None\n",
        "predictions counter"
       ]
      },
      {
       "output_type": "stream",
       "stream": "stdout",
       "text": [
        "\n",
        "Counter({'0': 89578, '1': 24580, '-8': 19284, '10': 4915, '-7': 3631, '2': 864, '-6': 588, '21': 166, '-5': 114, '3': 38, '-4': 19, '-27': 10, '-3': 8, '4': 4, '6': 2, '-2': 1, '-1': 1, '-10': 1, '5': 1})"
       ]
      },
      {
       "output_type": "stream",
       "stream": "stdout",
       "text": [
        "\n",
        "correct positives:"
       ]
      },
      {
       "output_type": "stream",
       "stream": "stdout",
       "text": [
        " 0\n",
        "correct negatives: 0\n",
        "false positives: 0\n",
        "false negatives: 0\n",
        "\n",
        "DONE!!!"
       ]
      },
      {
       "output_type": "stream",
       "stream": "stdout",
       "text": [
        "\n"
       ]
      }
     ],
     "prompt_number": 19
    },
    {
     "cell_type": "code",
     "collapsed": false,
     "input": [],
     "language": "python",
     "metadata": {},
     "outputs": [
      {
       "output_type": "pyout",
       "prompt_number": 8,
       "text": [
        "array([[    37.8002,   -121.901 ,    343.    ,   4483.    ],\n",
        "       [    37.3185,   -121.847 ,    616.    ,  19253.    ],\n",
        "       [    37.5752,   -121.991 ,    305.    ,  12909.    ],\n",
        "       ..., \n",
        "       [    39.7457,   -121.847 ,    276.    ,   6543.    ],\n",
        "       [    37.7214,   -122.482 ,     89.    ,   2990.    ],\n",
        "       [    37.7718,   -122.404 ,    407.    ,   3111.    ]])"
       ]
      },
      {
       "output_type": "stream",
       "stream": "stdout",
       "text": [
        "\n"
       ]
      }
     ],
     "prompt_number": 8
    },
    {
     "cell_type": "code",
     "collapsed": false,
     "input": [
      "y"
     ],
     "language": "python",
     "metadata": {},
     "outputs": [
      {
       "output_type": "pyout",
       "prompt_number": 9,
       "text": [
        "array(['1', '0', '0', ..., '0', '1', '-1'], \n",
        "      dtype='|S3')"
       ]
      }
     ],
     "prompt_number": 9
    },
    {
     "cell_type": "code",
     "collapsed": false,
     "input": [
      "clf = ExtraTreesClassifier()"
     ],
     "language": "python",
     "metadata": {},
     "outputs": [],
     "prompt_number": 10
    },
    {
     "cell_type": "code",
     "collapsed": false,
     "input": [
      "cross_val_score(clf, X, y)"
     ],
     "language": "python",
     "metadata": {},
     "outputs": [
      {
       "output_type": "pyout",
       "prompt_number": 11,
       "text": [
        "array([ 0.46865547,  0.46909356,  0.47464275])"
       ]
      }
     ],
     "prompt_number": 11
    },
    {
     "cell_type": "code",
     "collapsed": false,
     "input": [
      "score = cross_val_score(clf, X, y)"
     ],
     "language": "python",
     "metadata": {},
     "outputs": [],
     "prompt_number": 12
    },
    {
     "cell_type": "code",
     "collapsed": false,
     "input": [
      "print score"
     ],
     "language": "python",
     "metadata": {},
     "outputs": [
      {
       "output_type": "pyout",
       "prompt_number": 13,
       "text": [
        "array([ 0.47082508,  0.46946907,  0.47268176])"
       ]
      },
      {
       "output_type": "stream",
       "stream": "stdout",
       "text": [
        "[ 0.47082508  0.46946907  0.47268176]\n"
       ]
      }
     ],
     "prompt_number": 14
    },
    {
     "cell_type": "code",
     "collapsed": false,
     "input": [],
     "language": "python",
     "metadata": {},
     "outputs": []
    }
   ],
   "metadata": {}
  }
 ]
}