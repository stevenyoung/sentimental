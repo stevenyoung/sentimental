{
 "metadata": {
  "name": "located_tweets"
 },
 "nbformat": 3,
 "nbformat_minor": 0,
 "worksheets": [
  {
   "cells": [
    {
     "cell_type": "code",
     "collapsed": false,
     "input": [
      "#!/usr/bin/env python\n",
      "# -*- coding: utf-8 -*-\n",
      "\n",
      "import csv\n",
      "\n",
      "\n",
      "def load_data():\n",
      "    data = csv.reader(open('query_result.csv', 'rb'))\n",
      "    X = []\n",
      "    y = []\n",
      "    for d in data:\n",
      "        try:\n",
      "            tmp=[]\n",
      "            # print d\n",
      "            # print(d[24], d[25], d[12], d[14], d[18])\n",
      "            tmp.append(float(d[24]))\n",
      "            tmp.append(float(d[25]))\n",
      "            tmp.append(float(d[12]))\n",
      "            tmp.append(float(d[13]))\n",
      "            tmp.append(float(d[14]))\n",
      "            tmp.append(float(d[15]))\n",
      "            tmp.append(float(d[17]))\n",
      "            X.append(tmp)\n",
      "            if int(d[18]) > 0: # is negative\n",
      "                y.append(1)\n",
      "            else:\n",
      "                y.append(0)\n",
      "            # print X, y\n",
      "        except:\n",
      "            pass\n",
      "    X = np.array(X)\n",
      "    y = np.array(y)\n",
      "    return X, y\n"
     ],
     "language": "python",
     "metadata": {},
     "outputs": []
    }
   ],
   "metadata": {}
  }
 ]
}