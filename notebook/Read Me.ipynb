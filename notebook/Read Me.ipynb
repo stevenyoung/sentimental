{
 "metadata": {
  "name": "Read Me"
 },
 "nbformat": 3,
 "nbformat_minor": 0,
 "worksheets": [
  {
   "cells": [
    {
     "cell_type": "heading",
     "level": 1,
     "metadata": {},
     "source": [
      "Overview"
     ]
    },
    {
     "cell_type": "markdown",
     "metadata": {},
     "source": [
      "Can a collective 'mood' be determined by the features available in the Twitter-verse?"
     ]
    },
    {
     "cell_type": "markdown",
     "metadata": {},
     "source": [
      "Collect status messages from Twitter's firehose and see "
     ]
    },
    {
     "cell_type": "markdown",
     "metadata": {},
     "source": [
      "How to measure sentiment? Started with a very simple hypothesis: Count 'nice' words and 'mean' words in a tweet and score the tweet."
     ]
    },
    {
     "cell_type": "heading",
     "level": 1,
     "metadata": {},
     "source": [
      "Data Extraction"
     ]
    },
    {
     "cell_type": "markdown",
     "metadata": {},
     "source": [
      "Tweets are collected via Twitter's Stream API and stored to a database."
     ]
    },
    {
     "cell_type": "markdown",
     "metadata": {},
     "source": [
      "Tweets are filtered by geo-located tweets inside a box bounded by latitude, longitude to include much of Northern California"
     ]
    },
    {
     "cell_type": "markdown",
     "metadata": {},
     "source": [
      "Collected about 400,000 status messages over the last 10 days"
     ]
    },
    {
     "cell_type": "heading",
     "level": 1,
     "metadata": {},
     "source": [
      "Data Exploration"
     ]
    },
    {
     "cell_type": "markdown",
     "metadata": {},
     "source": [
      "Trial and error, various approaches to deal with things like unconventional text in status messages, languages, etc."
     ]
    },
    {
     "cell_type": "markdown",
     "metadata": {},
     "source": [
      "Other irregularities: Location reported in various ways."
     ]
    },
    {
     "cell_type": "heading",
     "level": 1,
     "metadata": {},
     "source": [
      "Features"
     ]
    },
    {
     "cell_type": "markdown",
     "metadata": {},
     "source": [
      "Can features besides content (latitude, longitude, user status counts, user followers, user friends) be used to determine 'sentiment' score."
     ]
    },
    {
     "cell_type": "heading",
     "level": 1,
     "metadata": {},
     "source": [
      "Data Analysis"
     ]
    },
    {
     "cell_type": "markdown",
     "metadata": {},
     "source": [
      "Used a combination of features.\n",
      "Inputs of location (latitude, longitude, user status counts, user followers, user friends)\n",
      "\n",
      "Tried these estimators DecisionTrees, RandomTrees, ExtraTrees to predict this 'sentiment'"
     ]
    },
    {
     "cell_type": "markdown",
     "metadata": {},
     "source": [
      "KNN scores: ->"
     ]
    },
    {
     "cell_type": "code",
     "collapsed": false,
     "input": [],
     "language": "python",
     "metadata": {},
     "outputs": []
    }
   ],
   "metadata": {}
  }
 ]
}