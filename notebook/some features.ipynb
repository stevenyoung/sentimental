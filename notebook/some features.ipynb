{
 "metadata": {
  "name": "some features"
 },
 "nbformat": 3,
 "nbformat_minor": 0,
 "worksheets": [
  {
   "cells": [
    {
     "cell_type": "code",
     "collapsed": false,
     "input": [
      "import pandas\n",
      "\n",
      "import pandas.io.sql as psql\n",
      "import MySQLdb\n",
      "\n",
      "\n",
      "def load_table_into_df(table='stream_sf'):\n",
      "  con = MySQLdb.connect(host='localhost', user='root', db='ebs_tweets')\n",
      "  query = 'SELECT * from %s' % (table)\n",
      "  return psql.read_frame(query, con)\n",
      "\n",
      "\n",
      "def write_df_to_csv(df, filename='stream_sf'):\n",
      "  return df.to_csv('html/csv/' + filename + '.csv')\n",
      "\n",
      "\n",
      "def data_for_time_series_charts():\n",
      "  tweets = load_table_into_df()\n",
      "  ts_data = tweets[['created', 'sentiment']]\n",
      "  write_df_to_csv(ts_data)\n"
     ],
     "language": "python",
     "metadata": {},
     "outputs": [],
     "prompt_number": 1
    },
    {
     "cell_type": "code",
     "collapsed": false,
     "input": [
      "data_for_time_series_charts()"
     ],
     "language": "python",
     "metadata": {},
     "outputs": [],
     "prompt_number": 2
    },
    {
     "cell_type": "code",
     "collapsed": false,
     "input": [
      "tweets = load_table_into_df()\n"
     ],
     "language": "python",
     "metadata": {},
     "outputs": [],
     "prompt_number": 3
    },
    {
     "cell_type": "code",
     "collapsed": false,
     "input": [
      "positive_tweets = tweets[tweets['sentiment'] > 0]"
     ],
     "language": "python",
     "metadata": {},
     "outputs": [],
     "prompt_number": 6
    },
    {
     "cell_type": "code",
     "collapsed": false,
     "input": [
      "negative_tweets = tweets[tweets['sentiment'] < 0]"
     ],
     "language": "python",
     "metadata": {},
     "outputs": [],
     "prompt_number": 8
    },
    {
     "cell_type": "code",
     "collapsed": false,
     "input": [
      "positive_tweets['sentiment'].value_counts()"
     ],
     "language": "python",
     "metadata": {},
     "outputs": [
      {
       "output_type": "pyout",
       "prompt_number": 10,
       "text": [
        "1     11716\n",
        "2      2420\n",
        "3       412\n",
        "4        82\n",
        "5        16\n",
        "6         2\n",
        "21        1\n",
        "10        1\n",
        "dtype: int64"
       ]
      }
     ],
     "prompt_number": 10
    },
    {
     "cell_type": "code",
     "collapsed": false,
     "input": [
      "negative_tweets['sentiment'].value_counts()"
     ],
     "language": "python",
     "metadata": {},
     "outputs": [
      {
       "output_type": "pyout",
       "prompt_number": 11,
       "text": [
        "-1     8013\n",
        "-2     1504\n",
        "-3      262\n",
        "-4       41\n",
        "-5        6\n",
        "-6        5\n",
        "-7        5\n",
        "-27       1\n",
        "dtype: int64"
       ]
      }
     ],
     "prompt_number": 11
    },
    {
     "cell_type": "code",
     "collapsed": false,
     "input": [
      "positive_tweets['created'].value_counts()\n"
     ],
     "language": "python",
     "metadata": {},
     "outputs": [
      {
       "output_type": "pyout",
       "prompt_number": 12,
       "text": [
        "2013-09-07 04:55:51    4\n",
        "2013-09-07 04:55:12    4\n",
        "2013-09-07 03:48:19    4\n",
        "2013-09-07 19:42:13    4\n",
        "2013-09-07 04:48:17    3\n",
        "2013-09-07 17:10:18    3\n",
        "2013-09-07 18:12:35    3\n",
        "2013-09-06 16:46:55    3\n",
        "2013-09-06 16:48:52    3\n",
        "2013-09-07 21:22:37    3\n",
        "2013-09-07 19:22:54    3\n",
        "2013-09-06 22:06:44    3\n",
        "2013-09-07 05:56:44    3\n",
        "2013-09-07 02:46:51    3\n",
        "2013-09-07 05:41:28    3\n",
        "...\n",
        "2013-09-07 19:26:51    1\n",
        "2013-09-07 07:13:25    1\n",
        "2013-09-07 08:18:20    1\n",
        "2013-09-06 10:26:32    1\n",
        "2013-09-07 20:38:12    1\n",
        "2013-09-06 07:58:42    1\n",
        "2013-09-06 20:11:28    1\n",
        "2013-09-07 19:23:39    1\n",
        "2013-09-06 15:17:32    1\n",
        "2013-09-07 05:56:56    1\n",
        "2013-09-07 04:43:27    1\n",
        "2013-09-06 16:29:45    1\n",
        "2013-09-06 07:56:34    1\n",
        "2013-09-07 08:22:14    1\n",
        "2013-09-06 14:31:59    1\n",
        "Length: 13688, dtype: int64"
       ]
      }
     ],
     "prompt_number": 12
    },
    {
     "cell_type": "code",
     "collapsed": false,
     "input": [
      "positive_tweets['date'] = positive_tweets['created']"
     ],
     "language": "python",
     "metadata": {},
     "outputs": [],
     "prompt_number": 13
    },
    {
     "cell_type": "code",
     "collapsed": false,
     "input": [
      "positive_tweets.keys()\n"
     ],
     "language": "python",
     "metadata": {},
     "outputs": [
      {
       "output_type": "pyout",
       "prompt_number": 21,
       "text": [
        "Index([u'id', u'ts', u'text', u'lang', u'status_id', u'created', u'screenname', u'favorited', u'retweeted', u'reply_to', u'favorite_count', u'user_id', u'user_followers', u'user_listed_count', u'user_statuses_count', u'user_favorites_count', u'retweet_count', u'user_friends_count', u'sentiment', u'geo', u'box_sw', u'box_nw', u'box_ne', u'box_se', u'lat', u'lng', u'date'], dtype=object)"
       ]
      }
     ],
     "prompt_number": 21
    },
    {
     "cell_type": "code",
     "collapsed": false,
     "input": [
      "   positive_tweets['text']\n",
      "    "
     ],
     "language": "python",
     "metadata": {},
     "outputs": [
      {
       "ename": "IndentationError",
       "evalue": "unexpected indent (<ipython-input-22-ad431422f032>, line 1)",
       "output_type": "pyerr",
       "traceback": [
        "\u001b[0;36m  File \u001b[0;32m\"<ipython-input-22-ad431422f032>\"\u001b[0;36m, line \u001b[0;32m1\u001b[0m\n\u001b[0;31m    positive_tweets['text']\u001b[0m\n\u001b[0m    ^\u001b[0m\n\u001b[0;31mIndentationError\u001b[0m\u001b[0;31m:\u001b[0m unexpected indent\n"
       ]
      }
     ],
     "prompt_number": 22
    },
    {
     "cell_type": "code",
     "collapsed": false,
     "input": [
      "positive_tweets['user_followers'].max()\n",
      "    "
     ],
     "language": "python",
     "metadata": {},
     "outputs": [
      {
       "output_type": "pyout",
       "prompt_number": 25,
       "text": [
        "2930178"
       ]
      }
     ],
     "prompt_number": 25
    },
    {
     "cell_type": "code",
     "collapsed": false,
     "input": [
      "positive_tweets['reply_to'].value_counts()"
     ],
     "language": "python",
     "metadata": {},
     "outputs": [
      {
       "output_type": "pyout",
       "prompt_number": 27,
       "text": [
        "0                     10933\n",
        "364164144494149634        9\n",
        "376203025926221824        8\n",
        "375999583022637056        6\n",
        "376081777393430528        5\n",
        "376035121880514560        4\n",
        "375876020164771840        3\n",
        "376423098897022977        3\n",
        "376099077437403136        3\n",
        "375879878064619520        3\n",
        "376018710319730689        3\n",
        "376063007702269952        3\n",
        "376413902411534336        3\n",
        "376066332157960192        2\n",
        "375934505728475137        2\n",
        "...\n",
        "376212283338145792    1\n",
        "376074083823136768    1\n",
        "376382123961114624    1\n",
        "376302124583620608    1\n",
        "375979531213238272    1\n",
        "376430185551507456    1\n",
        "375879203381465089    1\n",
        "376032451887239168    1\n",
        "375874290807107584    1\n",
        "376049038103048192    1\n",
        "376205875221762048    1\n",
        "376157687060254720    1\n",
        "376052857251717121    1\n",
        "376419569130156032    1\n",
        "376434043765522432    1\n",
        "Length: 3634, dtype: int64"
       ]
      }
     ],
     "prompt_number": 27
    },
    {
     "cell_type": "code",
     "collapsed": false,
     "input": [
      "positive_tweets['status_id'].value_counts()\n"
     ],
     "language": "python",
     "metadata": {},
     "outputs": [
      {
       "output_type": "pyout",
       "prompt_number": 28,
       "text": [
        "376183670220283904    1\n",
        "376203060324106240    1\n",
        "376387184334368768    1\n",
        "376129254909440000    1\n",
        "376454711798296576    1\n",
        "376083808333746176    1\n",
        "376038996687613952    1\n",
        "376272377786548224    1\n",
        "376416902240665600    1\n",
        "376169701682192384    1\n",
        "376448791131344896    1\n",
        "376382042465783808    1\n",
        "376413430296494081    1\n",
        "376451243872235520    1\n",
        "375884116157136896    1\n",
        "...\n",
        "376403975131889664    1\n",
        "376276588184100866    1\n",
        "376090313623744512    1\n",
        "376014682160500737    1\n",
        "376186738755923968    1\n",
        "376261116952707072    1\n",
        "376248689913647104    1\n",
        "376238444088803328    1\n",
        "376425093787688960    1\n",
        "376242593182404609    1\n",
        "376143124201873408    1\n",
        "376223334024753152    1\n",
        "376342252752089088    1\n",
        "376101881593880576    1\n",
        "376133975536041984    1\n",
        "Length: 14650, dtype: int64"
       ]
      }
     ],
     "prompt_number": 28
    },
    {
     "cell_type": "code",
     "collapsed": false,
     "input": [],
     "language": "python",
     "metadata": {},
     "outputs": []
    }
   ],
   "metadata": {}
  }
 ]
}