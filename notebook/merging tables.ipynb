{
 "metadata": {
  "name": "merging tables"
 },
 "nbformat": 3,
 "nbformat_minor": 0,
 "worksheets": [
  {
   "cells": [
    {
     "cell_type": "code",
     "collapsed": false,
     "input": [
      "import MySQLdb\n",
      "import pandas as pd\n",
      "import pandas.io.sql as sql\n",
      "\n",
      "\n",
      "def load_stream_table_into_df():\n",
      "  con = MySQLdb.connect('localhost', 'root', '', 'ebs_tweets')\n",
      "  # cursor = con.cursor()\n",
      "  query = 'SELECT * from stream_sf'\n",
      "  return sql.read_frame(query, con)\n",
      "\n",
      "\n",
      "def extract_lat_lng(location):\n",
      "    row = pd.DataFrame()\n",
      "    #print location\n",
      "    if str(location).startswith('[['):\n",
      "        trimmed = location.replace('[','')\n",
      "        trimmed = trimmed.replace(']','')\n",
      "        geo = trimmed.split(',')\n",
      "\n",
      "        geom = None\n",
      "        lat = None\n",
      "        lng = None\n",
      "        box_sw = '({0}, {1})'.format(geo[0], geo[1])\n",
      "        box_se = '({0}, {1})'.format(geo[2], geo[3])\n",
      "        box_ne = '({0}, {1})'.format(geo[4], geo[5])\n",
      "        box_nw = '({0}, {1})'.format(geo[6], geo[7])\n",
      "    else:\n",
      "        location = location.replace('[', '')\n",
      "        location = location.replace(']', '')\n",
      "        geo = location.split(',')\n",
      "        lat = geo[0]\n",
      "        lng = geo[1]\n",
      "        geom_text = '({0}, {1})'.format(lat, lng)\n",
      "        geom = geom_text\n",
      "        box_sw = None\n",
      "        box_se = None\n",
      "        box_ne = None\n",
      "        box_nw = None\n",
      "        \n",
      "        \n",
      "    row['lat'] = lat\n",
      "    row['lng'] = lng\n",
      "    row['geo'] = geom\n",
      "    row['box_sw'] = box_sw\n",
      "    row['box_se'] = box_se\n",
      "    row['box_ne'] = box_ne\n",
      "    row['box_nw'] = box_nw\n",
      "    return rowdef extract_lat_lng(location):\n",
      "    row = pd.DataFrame()\n",
      "    #print location\n",
      "    if str(location).startswith('[['):\n",
      "        trimmed = location.replace('[','')\n",
      "        trimmed = trimmed.replace(']','')\n",
      "        geo = trimmed.split(',')\n",
      "\n",
      "        geom = None\n",
      "        lat = None\n",
      "        lng = None\n",
      "        box_sw = '({0}, {1})'.format(geo[0], geo[1])\n",
      "        box_se = '({0}, {1})'.format(geo[2], geo[3])\n",
      "        box_ne = '({0}, {1})'.format(geo[4], geo[5])\n",
      "        box_nw = '({0}, {1})'.format(geo[6], geo[7])\n",
      "    else:\n",
      "        location = location.replace('[', '')\n",
      "        location = location.replace(']', '')\n",
      "        geo = location.split(',')\n",
      "        lat = geo[0]\n",
      "        lng = geo[1]\n",
      "        geom_text = '({0}, {1})'.format(lat, lng)\n",
      "        geom = geom_text\n",
      "        box_sw = None\n",
      "        box_se = None\n",
      "        box_ne = None\n",
      "        box_nw = None\n",
      "        \n",
      "        \n",
      "    row['lat'] = lat\n",
      "    row['lng'] = lng\n",
      "    row['geo'] = geom\n",
      "    row['box_sw'] = box_sw\n",
      "    row['box_se'] = box_se\n",
      "    row['box_ne'] = box_ne\n",
      "    row['box_nw'] = box_nw\n",
      "    return row\n",
      "\n",
      "def update_missing_latlng_values(df):\n",
      "  missing = df[df['lat'].isnull()]\n",
      "  fixed = missing[:20,].apply(extract_lat_lng, axis=1)\n",
      "  #pieces = [df[df['lat'].isnotnull()], missing]\n",
      "  #return concat(pieces)\n",
      "\n",
      "df = load_stream_table_into_df()\n",
      "missing = df[df['lat'].isnull()]\n"
     ],
     "language": "python",
     "metadata": {},
     "outputs": [],
     "prompt_number": 2
    },
    {
     "cell_type": "code",
     "collapsed": false,
     "input": [
      "\n"
     ],
     "language": "python",
     "metadata": {},
     "outputs": [],
     "prompt_number": 6
    },
    {
     "cell_type": "code",
     "collapsed": false,
     "input": [
      "geo = missing['geo']"
     ],
     "language": "python",
     "metadata": {},
     "outputs": [],
     "prompt_number": 9
    },
    {
     "cell_type": "code",
     "collapsed": false,
     "input": [],
     "language": "python",
     "metadata": {},
     "outputs": [
      {
       "output_type": "pyout",
       "prompt_number": 10,
       "text": [
        "0             [39.759334559999999, -121.76366425000001]\n",
        "1             [37.027750140000002, -121.59180277999999]\n",
        "2             [38.678589899999999, -121.82307779999999]\n",
        "3                    [38.29066856, -120.87758221999999]\n",
        "4                   [37.252116719999997, -121.80743862]\n",
        "5                   [37.435779410000002, -122.44045969]\n",
        "6                   [37.753159070000002, -122.40903824]\n",
        "7                   [37.698346809999997, -122.15407765]\n",
        "8                   [37.602452280000001, -122.37064577]\n",
        "9             [37.261366389999999, -121.84882306999999]\n",
        "10            [37.663972569999999, -122.44614489999999]\n",
        "11    [[[-124.48200299999999, 32.528832000000001], [...\n",
        "12                  [37.616424049999999, -122.38627911]\n",
        "13    [[[-124.48200299999999, 32.528832000000001], [...\n",
        "14            [38.721023629999998, -121.34823043999999]\n",
        "...\n",
        "199760                         [37.34623388, -121.85225341]\n",
        "199761                         [37.77265156, -122.42618856]\n",
        "199762    [[[-124.48200299999999, 32.528832000000001], [...\n",
        "199763    [[[-124.48200299999999, 32.528832000000001], [...\n",
        "199764    [[[-124.48200299999999, 32.528832000000001], [...\n",
        "199765                  [37.715852169999998, -122.48557144]\n",
        "199766    [[[-122.49598211999999, 37.733631029999998], [...\n",
        "199767                  [37.690778510000001, -122.48704458]\n",
        "199768                   [36.217456599999998, -121.1396392]\n",
        "199769                  [37.632830179999999, -122.45178066]\n",
        "199770                  [36.975336220000003, -122.02774965]\n",
        "199771    [[[-122.51368187999999, 37.708131959999996], [...\n",
        "199772            [37.712901629999998, -122.46214655999999]\n",
        "199773                  [37.330158099999998, -121.79815949]\n",
        "199774                  [37.612312539999998, -122.38420492]\n",
        "Name: geo, Length: 199775, dtype: object"
       ]
      }
     ],
     "prompt_number": 10
    },
    {
     "cell_type": "code",
     "collapsed": false,
     "input": [
      "geo[:20,]"
     ],
     "language": "python",
     "metadata": {},
     "outputs": [
      {
       "output_type": "pyout",
       "prompt_number": 13,
       "text": [
        "0             [39.759334559999999, -121.76366425000001]\n",
        "1             [37.027750140000002, -121.59180277999999]\n",
        "2             [38.678589899999999, -121.82307779999999]\n",
        "3                    [38.29066856, -120.87758221999999]\n",
        "4                   [37.252116719999997, -121.80743862]\n",
        "5                   [37.435779410000002, -122.44045969]\n",
        "6                   [37.753159070000002, -122.40903824]\n",
        "7                   [37.698346809999997, -122.15407765]\n",
        "8                   [37.602452280000001, -122.37064577]\n",
        "9             [37.261366389999999, -121.84882306999999]\n",
        "10            [37.663972569999999, -122.44614489999999]\n",
        "11    [[[-124.48200299999999, 32.528832000000001], [...\n",
        "12                  [37.616424049999999, -122.38627911]\n",
        "13    [[[-124.48200299999999, 32.528832000000001], [...\n",
        "14            [38.721023629999998, -121.34823043999999]\n",
        "15                             [37.774929, -122.419416]\n",
        "16    [[[-124.48200299999999, 32.528832000000001], [...\n",
        "17                  [37.347263060000003, -121.84331671]\n",
        "18            [39.495767899999997, -123.78052630000001]\n",
        "19                             [37.789707, -122.407149]\n",
        "Name: geo, dtype: object"
       ]
      }
     ],
     "prompt_number": 13
    },
    {
     "cell_type": "code",
     "collapsed": false,
     "input": [
      "def applied_fn(row):\n",
      "    print row\n",
      "    if str(row).startswith('[['):\n",
      "        print 'boxy'\n",
      "    else:\n",
      "        print 'pointy'\n",
      "    return row"
     ],
     "language": "python",
     "metadata": {},
     "outputs": [],
     "prompt_number": 18
    },
    {
     "cell_type": "code",
     "collapsed": false,
     "input": [
      "geo[:20,].apply(applied_fn)"
     ],
     "language": "python",
     "metadata": {},
     "outputs": [
      {
       "output_type": "stream",
       "stream": "stdout",
       "text": [
        "[39.759334559999999, -121.76366425000001]\n",
        "pointy\n",
        "[37.027750140000002, -121.59180277999999]\n",
        "pointy\n",
        "[38.678589899999999, -121.82307779999999]\n",
        "pointy\n",
        "[38.29066856, -120.87758221999999]\n",
        "pointy\n",
        "[37.252116719999997, -121.80743862]\n",
        "pointy\n",
        "[37.435779410000002, -122.44045969]\n",
        "pointy\n",
        "[37.753159070000002, -122.40903824]\n",
        "pointy\n",
        "[37.698346809999997, -122.15407765]\n",
        "pointy\n",
        "[37.602452280000001, -122.37064577]\n",
        "pointy\n",
        "[37.261366389999999, -121.84882306999999]\n",
        "pointy\n",
        "[37.663972569999999, -122.44614489999999]\n",
        "pointy\n",
        "[[[-124.48200299999999, 32.528832000000001], [-124.48200299999999, 42.009516999999995], [-114.13121099999999, 42.009516999999995], [-114.13121099999999, 32.528832000000001]]]\n",
        "boxy\n",
        "[37.616424049999999, -122.38627911]\n",
        "pointy\n",
        "[[[-124.48200299999999, 32.528832000000001], [-124.48200299999999, 42.009516999999995], [-114.13121099999999, 42.009516999999995], [-114.13121099999999, 32.528832000000001]]]\n",
        "boxy\n",
        "[38.721023629999998, -121.34823043999999]\n",
        "pointy\n",
        "[37.774929, -122.419416]\n",
        "pointy\n",
        "[[[-124.48200299999999, 32.528832000000001], [-124.48200299999999, 42.009516999999995], [-114.13121099999999, 42.009516999999995], [-114.13121099999999, 32.528832000000001]]]\n",
        "boxy\n",
        "[37.347263060000003, -121.84331671]\n",
        "pointy\n",
        "[39.495767899999997, -123.78052630000001]\n",
        "pointy\n",
        "[37.789707, -122.407149]\n",
        "pointy\n"
       ]
      },
      {
       "output_type": "pyout",
       "prompt_number": 19,
       "text": [
        "0             [39.759334559999999, -121.76366425000001]\n",
        "1             [37.027750140000002, -121.59180277999999]\n",
        "2             [38.678589899999999, -121.82307779999999]\n",
        "3                    [38.29066856, -120.87758221999999]\n",
        "4                   [37.252116719999997, -121.80743862]\n",
        "5                   [37.435779410000002, -122.44045969]\n",
        "6                   [37.753159070000002, -122.40903824]\n",
        "7                   [37.698346809999997, -122.15407765]\n",
        "8                   [37.602452280000001, -122.37064577]\n",
        "9             [37.261366389999999, -121.84882306999999]\n",
        "10            [37.663972569999999, -122.44614489999999]\n",
        "11    [[[-124.48200299999999, 32.528832000000001], [...\n",
        "12                  [37.616424049999999, -122.38627911]\n",
        "13    [[[-124.48200299999999, 32.528832000000001], [...\n",
        "14            [38.721023629999998, -121.34823043999999]\n",
        "15                             [37.774929, -122.419416]\n",
        "16    [[[-124.48200299999999, 32.528832000000001], [...\n",
        "17                  [37.347263060000003, -121.84331671]\n",
        "18            [39.495767899999997, -123.78052630000001]\n",
        "19                             [37.789707, -122.407149]\n",
        "Name: geo, dtype: object"
       ]
      }
     ],
     "prompt_number": 19
    },
    {
     "cell_type": "code",
     "collapsed": false,
     "input": [
      "def extract_lat_lng(location):\n",
      "    row = pd.DataFrame()\n",
      "    #print location\n",
      "    if str(location).startswith('[['):\n",
      "        trimmed = location.replace('[','')\n",
      "        trimmed = trimmed.replace(']','')\n",
      "        geo = trimmed.split(',')\n",
      "\n",
      "        geom = None\n",
      "        lat = None\n",
      "        lng = None\n",
      "        box_sw = '({0}, {1})'.format(geo[0], geo[1])\n",
      "        box_se = '({0}, {1})'.format(geo[2], geo[3])\n",
      "        box_ne = '({0}, {1})'.format(geo[4], geo[5])\n",
      "        box_nw = '({0}, {1})'.format(geo[6], geo[7])\n",
      "    else:\n",
      "        location = location.replace('[', '')\n",
      "        location = location.replace(']', '')\n",
      "        geo = location.split(',')\n",
      "        lat = geo[0]\n",
      "        lng = geo[1]\n",
      "        geom_text = '({0}, {1})'.format(lat, lng)\n",
      "        geom = geom_text\n",
      "        box_sw = None\n",
      "        box_se = None\n",
      "        box_ne = None\n",
      "        box_nw = None\n",
      "        \n",
      "        \n",
      "    row['lat'] = lat\n",
      "    row['lng'] = lng\n",
      "    row['geo'] = geom\n",
      "    row['box_sw'] = box_sw\n",
      "    row['box_se'] = box_se\n",
      "    row['box_ne'] = box_ne\n",
      "    row['box_nw'] = box_nw\n",
      "    return row\n",
      "\n",
      "new = geo.apply(extract_lat_lng)"
     ],
     "language": "python",
     "metadata": {},
     "outputs": [],
     "prompt_number": "*"
    },
    {
     "cell_type": "code",
     "collapsed": false,
     "input": [
      "new\n",
      "type(new)\n"
     ],
     "language": "python",
     "metadata": {},
     "outputs": [
      {
       "output_type": "pyout",
       "prompt_number": 93,
       "text": [
        "pandas.core.series.Series"
       ]
      }
     ],
     "prompt_number": 93
    },
    {
     "cell_type": "code",
     "collapsed": false,
     "input": [
      "size(new)\n"
     ],
     "language": "python",
     "metadata": {},
     "outputs": [
      {
       "output_type": "pyout",
       "prompt_number": 94,
       "text": [
        "199775"
       ]
      }
     ],
     "prompt_number": 94
    },
    {
     "cell_type": "code",
     "collapsed": false,
     "input": [
      "new.size\n"
     ],
     "language": "python",
     "metadata": {},
     "outputs": [
      {
       "output_type": "pyout",
       "prompt_number": 95,
       "text": [
        "199775"
       ]
      }
     ],
     "prompt_number": 95
    },
    {
     "cell_type": "code",
     "collapsed": false,
     "input": [
      "import pandas as pd"
     ],
     "language": "python",
     "metadata": {},
     "outputs": [],
     "prompt_number": 98
    },
    {
     "cell_type": "code",
     "collapsed": false,
     "input": [
      "missing"
     ],
     "language": "python",
     "metadata": {},
     "outputs": [
      {
       "html": [
        "<pre>\n",
        "&lt;class 'pandas.core.frame.DataFrame'&gt;\n",
        "Int64Index: 199775 entries, 0 to 199774\n",
        "Data columns (total 26 columns):\n",
        "id                      199775  non-null values\n",
        "ts                      199775  non-null values\n",
        "text                    199775  non-null values\n",
        "lang                    199775  non-null values\n",
        "status_id               199775  non-null values\n",
        "created                 199775  non-null values\n",
        "screenname              199775  non-null values\n",
        "favorited               199775  non-null values\n",
        "retweeted               199775  non-null values\n",
        "reply_to                199775  non-null values\n",
        "favorite_count          199775  non-null values\n",
        "user_id                 199775  non-null values\n",
        "user_followers          199775  non-null values\n",
        "user_listed_count       199775  non-null values\n",
        "user_statuses_count     199775  non-null values\n",
        "user_favorites_count    199775  non-null values\n",
        "retweet_count           199775  non-null values\n",
        "user_friends_count      199775  non-null values\n",
        "sentiment               199775  non-null values\n",
        "geo                     199775  non-null values\n",
        "box_sw                  0  non-null values\n",
        "box_nw                  0  non-null values\n",
        "box_ne                  0  non-null values\n",
        "box_se                  0  non-null values\n",
        "lat                     0  non-null values\n",
        "lng                     0  non-null values\n",
        "dtypes: datetime64[ns](2), float64(2), int64(10), object(12)\n",
        "</pre>"
       ],
       "output_type": "pyout",
       "prompt_number": 99,
       "text": [
        "<class 'pandas.core.frame.DataFrame'>\n",
        "Int64Index: 199775 entries, 0 to 199774\n",
        "Data columns (total 26 columns):\n",
        "id                      199775  non-null values\n",
        "ts                      199775  non-null values\n",
        "text                    199775  non-null values\n",
        "lang                    199775  non-null values\n",
        "status_id               199775  non-null values\n",
        "created                 199775  non-null values\n",
        "screenname              199775  non-null values\n",
        "favorited               199775  non-null values\n",
        "retweeted               199775  non-null values\n",
        "reply_to                199775  non-null values\n",
        "favorite_count          199775  non-null values\n",
        "user_id                 199775  non-null values\n",
        "user_followers          199775  non-null values\n",
        "user_listed_count       199775  non-null values\n",
        "user_statuses_count     199775  non-null values\n",
        "user_favorites_count    199775  non-null values\n",
        "retweet_count           199775  non-null values\n",
        "user_friends_count      199775  non-null values\n",
        "sentiment               199775  non-null values\n",
        "geo                     199775  non-null values\n",
        "box_sw                  0  non-null values\n",
        "box_nw                  0  non-null values\n",
        "box_ne                  0  non-null values\n",
        "box_se                  0  non-null values\n",
        "lat                     0  non-null values\n",
        "lng                     0  non-null values\n",
        "dtypes: datetime64[ns](2), float64(2), int64(10), object(12)"
       ]
      }
     ],
     "prompt_number": 99
    },
    {
     "cell_type": "code",
     "collapsed": false,
     "input": [
      "newdf = pd.DataFrame(new)\n",
      "print newdf\n",
      "#fixed = pd.merge(missing, newdf)"
     ],
     "language": "python",
     "metadata": {},
     "outputs": [
      {
       "output_type": "stream",
       "stream": "stdout",
       "text": [
        "<class 'pandas.core.frame.DataFrame'>\n",
        "Int64Index: 199775 entries, 0 to 199774\n",
        "Data columns (total 1 columns):\n",
        "geo    199775  non-null values\n",
        "dtypes: object(1)\n"
       ]
      }
     ],
     "prompt_number": 104
    },
    {
     "cell_type": "code",
     "collapsed": false,
     "input": [],
     "language": "python",
     "metadata": {},
     "outputs": []
    }
   ],
   "metadata": {}
  }
 ]
}